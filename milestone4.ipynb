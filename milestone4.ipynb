{
  "nbformat": 4,
  "nbformat_minor": 0,
  "metadata": {
    "colab": {
      "provenance": [],
      "authorship_tag": "ABX9TyPOgn+WdOVXzylhI72Wmhfj"
    },
    "kernelspec": {
      "name": "python3",
      "display_name": "Python 3"
    },
    "language_info": {
      "name": "python"
    }
  },
  "cells": [
    {
      "cell_type": "code",
      "source": [
        "!pip install pyodbc"
      ],
      "metadata": {
        "id": "1NWoOfPl16o8"
      },
      "execution_count": null,
      "outputs": []
    },
    {
      "cell_type": "code",
      "source": [
        "import pyodbc\n",
        "import requests"
      ],
      "metadata": {
        "id": "K90pQzxyDwUg"
      },
      "execution_count": null,
      "outputs": []
    },
    {
      "cell_type": "markdown",
      "source": [
        "# Database connection"
      ],
      "metadata": {
        "id": "pnR_egyLDymp"
      }
    },
    {
      "cell_type": "code",
      "source": [
        "DATABASE_CONFIG = {\n",
        "    'server': 'your_server_name',\n",
        "    'database': 'your_database_name',\n",
        "    'username': 'your_username',\n",
        "    'password': 'your_password',\n",
        "    'driver': '{ODBC Driver 18 for SQL Server}',\n",
        "    'timeout': 60\n",
        "}"
      ],
      "metadata": {
        "id": "h5oKdpHmD3R4"
      },
      "execution_count": null,
      "outputs": []
    },
    {
      "cell_type": "markdown",
      "source": [
        "# Singleton pattern for database connection"
      ],
      "metadata": {
        "id": "FRtabh_WD5V5"
      }
    },
    {
      "cell_type": "code",
      "source": [
        "class DatabaseConnection:\n",
        "    \"\"\"\n",
        "    Singleton class for establishing and managing the database connection.\n",
        "    Ensures a single instance of the connection exists across the application.\n",
        "    \"\"\"\n",
        "    _instance = None\n",
        "\n",
        "    def __new__(cls):\n",
        "        if cls._instance is None:\n",
        "            try:\n",
        "                connection_string = (\n",
        "                    f\"DRIVER={DATABASE_CONFIG['driver']};\"\n",
        "                    f\"SERVER={DATABASE_CONFIG['server']};\"\n",
        "                    f\"DATABASE={DATABASE_CONFIG['database']};\"\n",
        "                    f\"UID={DATABASE_CONFIG['username']};\"\n",
        "                    f\"PWD={DATABASE_CONFIG['password']};\"\n",
        "                    f\"Encrypt=yes;\"\n",
        "                    f\"TrustServerCertificate=no;\"\n",
        "                    f\"Connection Timeout={DATABASE_CONFIG['timeout']};\"\n",
        "                )\n",
        "                cls._instance = pyodbc.connect(connection_string)\n",
        "                print(\"Database connection successful.\")\n",
        "            except Exception as e:\n",
        "                print(f\"Failed to connect to database: {e}\")\n",
        "        return cls._instance\n",
        "\n",
        "    @staticmethod\n",
        "    def close_connection():\n",
        "        \"\"\"Close the database connection.\"\"\"\n",
        "        if DatabaseConnection._instance:\n",
        "            DatabaseConnection._instance.close()\n",
        "            print(\"Database connection closed.\")"
      ],
      "metadata": {
        "id": "J6dXoLbBEHKA"
      },
      "execution_count": null,
      "outputs": []
    },
    {
      "cell_type": "markdown",
      "source": [
        "# Google Books API client"
      ],
      "metadata": {
        "id": "EWsLoghuEDe5"
      }
    },
    {
      "cell_type": "code",
      "source": [
        "def fetch_books_from_google_api(query=\"Python programming\", max_results=5):\n",
        "    \"\"\"\n",
        "    Fetch book data from Google Books API.\n",
        "    - query: Search term for fetching books.\n",
        "    - max_results: Limit the number of results.\n",
        "    \"\"\"\n",
        "    api_url = f\"https://www.googleapis.com/books/v1/volumes?q={query}&maxResults={max_results}\"\n",
        "    try:\n",
        "        response = requests.get(api_url)\n",
        "        response.raise_for_status()\n",
        "        books = [\n",
        "            {\n",
        "                'title': item['volumeInfo'].get('title', 'N/A'),\n",
        "                'authors': ', '.join(item['volumeInfo'].get('authors', ['Unknown Author'])),\n",
        "                'genre': ', '.join(item['volumeInfo'].get('categories', ['N/A'])),\n",
        "                'year': item['volumeInfo'].get('publishedDate', 'N/A')[:4],\n",
        "                'rating': None  # Assume no rating available\n",
        "            }\n",
        "            for item in response.json().get('items', [])\n",
        "        ]\n",
        "        print(f\"Fetched {len(books)} books from Google Books API.\")\n",
        "        return books\n",
        "    except requests.RequestException as e:\n",
        "        print(f\"Error fetching data from Google Books API: {e}\")\n",
        "        return []"
      ],
      "metadata": {
        "id": "YXLqJRC_EMnp"
      },
      "execution_count": null,
      "outputs": []
    },
    {
      "cell_type": "markdown",
      "source": [
        "# CRUD operations for Books table"
      ],
      "metadata": {
        "id": "qfuN7I--EN5I"
      }
    },
    {
      "cell_type": "code",
      "source": [
        "def setup_books_table(connection):\n",
        "    \"\"\"Creates the Books table in the database if it does not already exist.\"\"\"\n",
        "    cursor = connection.cursor()\n",
        "    create_table_sql = \"\"\"\n",
        "    IF OBJECT_ID('dbo.Books', 'U') IS NULL\n",
        "    BEGIN\n",
        "        CREATE TABLE dbo.Books (\n",
        "            BookID INT IDENTITY(1,1) PRIMARY KEY,\n",
        "            Title NVARCHAR(255) NOT NULL,\n",
        "            Author NVARCHAR(255) NOT NULL,\n",
        "            Genre NVARCHAR(100),\n",
        "            PublicationYear INT,\n",
        "            Rating FLOAT\n",
        "        );\n",
        "    END;\n",
        "    \"\"\"\n",
        "    cursor.execute(create_table_sql)\n",
        "    connection.commit()\n",
        "    print(\"Books table created (or already exists).\")\n",
        "    cursor.close()\n",
        "\n",
        "def insert_books(connection, books):\n",
        "    \"\"\"Inserts a list of books into the Books table.\"\"\"\n",
        "    cursor = connection.cursor()\n",
        "    insert_sql = \"INSERT INTO Books (Title, Author, Genre, PublicationYear, Rating) VALUES (?, ?, ?, ?, ?);\"\n",
        "    for book in books:\n",
        "        cursor.execute(insert_sql, (book['title'], book['authors'], book['genre'], book['year'], book['rating']))\n",
        "    connection.commit()\n",
        "    print(f\"Inserted {len(books)} books into the database.\")\n",
        "    cursor.close()\n",
        "\n",
        "def retrieve_books(connection):\n",
        "  \"\"\"Retrieves and displays all books from the Books table.\"\"\"\n",
        "    cursor = connection.cursor()\n",
        "    cursor.execute(\"SELECT * FROM Books;\")\n",
        "    rows = cursor.fetchall()\n",
        "    print(\"Books in the database:\")\n",
        "    for row in rows:\n",
        "        print(f\"ID: {row.BookID}, Title: {row.Title}, Author: {row.Author}, Genre: {row.Genre}, Year: {row.PublicationYear}, Rating: {row.Rating}\")\n",
        "    cursor.close()\n",
        "\n",
        "def delete_books(connection, author=\"Unknown Author\"):\n",
        "  \"\"\"Deletes books from the Books table based on the author.\"\"\"\n",
        "    cursor = connection.cursor()\n",
        "    cursor.execute(\"DELETE FROM Books WHERE Author = ?;\", (author,))\n",
        "    connection.commit()\n",
        "    print(f\"Deleted books by author '{author}'.\")\n",
        "    cursor.close()"
      ],
      "metadata": {
        "id": "c-717kgCEVvw"
      },
      "execution_count": null,
      "outputs": []
    },
    {
      "cell_type": "code",
      "source": [
        "# Testing functionality"
      ],
      "metadata": {
        "id": "gyyDEstaEZsA"
      },
      "execution_count": null,
      "outputs": []
    },
    {
      "cell_type": "code",
      "source": [
        "import logging\n",
        "import time"
      ],
      "metadata": {
        "id": "aRKAG_Bo1SeU"
      },
      "execution_count": null,
      "outputs": []
    },
    {
      "cell_type": "markdown",
      "source": [
        "## Configure logging"
      ],
      "metadata": {
        "id": "fRjkT2Cp1VXc"
      }
    },
    {
      "cell_type": "code",
      "execution_count": null,
      "metadata": {
        "id": "hT-2dZm6Am-M"
      },
      "outputs": [],
      "source": [
        "logging.basicConfig(level=logging.INFO, format='%(asctime)s - %(levelname)s - %(message)s')\n",
        "\n",
        "def test_igottabook_app():\n",
        "  \"\"\"Tests core functionalities of the IGottaBook application.\"\"\"\n",
        "  logging.info(\"Starting IGottaBook tests...\")\n",
        "\n",
        "\n",
        "    # Connect to the database\n",
        "    connection = DatabaseConnection()\n",
        "    if not connection:\n",
        "        logging.error(\"Failed to connect to database. Tests cannot proceed.\")\n",
        "        return\n",
        "\n",
        "    try:\n",
        "        # Test 1: Table Setup\n",
        "        logging.info(\"Testing table setup...\")\n",
        "        setup_books_table(connection)\n",
        "\n",
        "        # Test 2: API Fetch with Valid Query\n",
        "        logging.info(\"Testing API fetch with valid query...\")\n",
        "        start_time = time.time()\n",
        "        books = fetch_books_from_google_api(\"Python programming\")\n",
        "        fetch_time = time.time() - start_time\n",
        "        logging.info(f\"Fetched {len(books)} books in {fetch_time:.2f} seconds.\")\n",
        "        assert books, \"No books fetched from the API.\"\n",
        "\n",
        "        # Test 3: API Fetch with Empty Query\n",
        "        logging.info(\"Testing API fetch with empty query...\")\n",
        "        empty_books = fetch_books_from_google_api(\"\")\n",
        "        assert not empty_books, \"API returned books for an empty query.\"\n",
        "\n",
        "        # Test 4: Insert Books\n",
        "        logging.info(\"Testing book insertion...\")\n",
        "        start_time = time.time()\n",
        "        insert_books(connection, books)\n",
        "        insert_time = time.time() - start_time\n",
        "        logging.info(f\"Inserted {len(books)} books into the database in {insert_time:.2f} seconds.\")\n",
        "\n",
        "        # Test 5: Retrieve Books\n",
        "        logging.info(\"Testing data retrieval...\")\n",
        "        retrieved_books = retrieve_books(connection)\n",
        "        assert len(retrieved_books) == len(books), \"Mismatch in inserted and retrieved books.\"\n",
        "\n",
        "        # Test 6: Cleanup\n",
        "        logging.info(\"Testing data cleanup...\")\n",
        "        delete_books(connection)\n",
        "        cleanup_books = retrieve_books(connection)\n",
        "        assert not cleanup_books, \"Cleanup failed; some books remain in the database.\"\n",
        "\n",
        "    except Exception as e:\n",
        "        logging.error(f\"An error occurred during testing: {e}\")\n",
        "    finally:\n",
        "        DatabaseConnection.close_connection()\n",
        "        logging.info(\"Testing completed. Database connection closed.\")\n"
      ]
    },
    {
      "cell_type": "markdown",
      "source": [
        "# Instructions for execution\n",
        "To run this code:\n",
        "1. Ensure Python and required libraries (pyodbc, requests) are installed.\n",
        "2. Configure database access credentials in DATABASE_CONFIG.\n",
        "3. Run the script using `python igottabook.py`."
      ],
      "metadata": {
        "id": "nz-Td0x5KlWT"
      }
    },
    {
      "cell_type": "markdown",
      "source": [
        "# Main execution"
      ],
      "metadata": {
        "id": "jgY9OlheKyOU"
      }
    },
    {
      "cell_type": "code",
      "source": [
        "if __name__ == \"__main__\":\n",
        "    test_igottabook_app()"
      ],
      "metadata": {
        "id": "KzGYNSmmKryc"
      },
      "execution_count": null,
      "outputs": []
    }
  ]
}