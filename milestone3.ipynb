{
  "nbformat": 4,
  "nbformat_minor": 0,
  "metadata": {
    "colab": {
      "provenance": [],
      "authorship_tag": "ABX9TyNM/1pKL+3BnrFcT1ILphLU"
    },
    "kernelspec": {
      "name": "python3",
      "display_name": "Python 3"
    },
    "language_info": {
      "name": "python"
    }
  },
  "cells": [
    {
      "cell_type": "code",
      "source": [
        "!pip install pyodbc"
      ],
      "metadata": {
        "colab": {
          "base_uri": "https://localhost:8080/"
        },
        "id": "z7-IMuc9nRqG",
        "outputId": "7d4c7bce-6563-4b62-cb03-33c25c74f377"
      },
      "execution_count": 22,
      "outputs": [
        {
          "output_type": "stream",
          "name": "stdout",
          "text": [
            "Requirement already satisfied: pyodbc in /usr/local/lib/python3.10/dist-packages (5.2.0)\n"
          ]
        }
      ]
    },
    {
      "cell_type": "code",
      "source": [
        "import pyodbc\n",
        "import requests  # Import requests library for making HTTP requests"
      ],
      "metadata": {
        "id": "MQPaZ6cnmzmZ"
      },
      "execution_count": 23,
      "outputs": []
    },
    {
      "cell_type": "markdown",
      "source": [
        "# Database connection function"
      ],
      "metadata": {
        "id": "sKSaECqryNFq"
      }
    },
    {
      "cell_type": "code",
      "source": [
        "def connect_db():\n",
        "    server = 'your_server_name'\n",
        "    database = 'your_database_name'\n",
        "    username = 'your_username'\n",
        "    password = 'your_password'\n",
        "    driver = '{ODBC Driver 18 for SQL Server}'\n",
        "\n",
        "    connection_string = (\n",
        "        f'DRIVER={driver};'\n",
        "        f'SERVER={server};'\n",
        "        f'DATABASE={database};'\n",
        "        f'UID={username};'\n",
        "        f'PWD={password};'\n",
        "        f'Encrypt=yes;'  # Secure the connection\n",
        "        f'TrustServerCertificate=no;'  # Require a valid certificate\n",
        "        f'Connection Timeout=60;'  # Set a timeout for establishing a connection\n",
        "    )\n",
        "    connection = pyodbc.connect(connection_string)\n",
        "    return connection"
      ],
      "metadata": {
        "id": "GktqN0R2m2rV"
      },
      "execution_count": 24,
      "outputs": []
    },
    {
      "cell_type": "markdown",
      "source": [
        "# Ensure the Books table exists"
      ],
      "metadata": {
        "id": "Ilbb40lhyRXR"
      }
    },
    {
      "cell_type": "code",
      "source": [
        "def setup_table(connection):\n",
        "    cursor = connection.cursor()\n",
        "    create_table_sql = \"\"\"\n",
        "    IF OBJECT_ID('dbo.Books', 'U') IS NULL\n",
        "    BEGIN\n",
        "        CREATE TABLE dbo.Books (\n",
        "            BookID INT IDENTITY(1,1) PRIMARY KEY,\n",
        "            Title NVARCHAR(255) NOT NULL,\n",
        "            Author NVARCHAR(255) NOT NULL,\n",
        "            Genre NVARCHAR(100),\n",
        "            PublicationYear INT\n",
        "        );\n",
        "    END;\n",
        "    \"\"\"\n",
        "    cursor.execute(create_table_sql)\n",
        "    connection.commit()\n",
        "    print(\"Books table created (or already exists).\")\n",
        "    cursor.close()"
      ],
      "metadata": {
        "id": "zg5Cz8lPm7kO"
      },
      "execution_count": 25,
      "outputs": []
    },
    {
      "cell_type": "markdown",
      "source": [
        "# Fetch books from Google Books API"
      ],
      "metadata": {
        "id": "hPx9usILyj-E"
      }
    },
    {
      "cell_type": "code",
      "source": [
        "def fetch_books_from_google_api(query):\n",
        "    api_url = f\"https://www.googleapis.com/books/v1/volumes?q={query}\"\n",
        "    response = requests.get(api_url)\n",
        "    if response.status_code == 200:\n",
        "        data = response.json()\n",
        "        books = []\n",
        "        for item in data['items'][:5]:  # Limit to 5 results for demo purposes\n",
        "            title = item['volumeInfo'].get('title', 'N/A')\n",
        "            authors = ', '.join(item['volumeInfo'].get('authors', ['Unknown Author']))\n",
        "            genre = item['volumeInfo'].get('categories', ['N/A'])[0]\n",
        "            publication_year = item['volumeInfo'].get('publishedDate', 'N/A')[:4]\n",
        "            books.append((title, authors, genre, int(publication_year) if publication_year.isdigit() else None))\n",
        "        return books\n",
        "    else:\n",
        "        print(\"Error fetching data from Google Books API.\")\n",
        "        return []"
      ],
      "metadata": {
        "id": "gfvP0u8Sm92_"
      },
      "execution_count": 26,
      "outputs": []
    },
    {
      "cell_type": "markdown",
      "source": [
        "# Insert fetched books into the database"
      ],
      "metadata": {
        "id": "1VQ2l396ysKc"
      }
    },
    {
      "cell_type": "code",
      "source": [
        "def insert_fetched_books(connection, books):\n",
        "    cursor = connection.cursor()\n",
        "    insert_sql = \"INSERT INTO Books (Title, Author, Genre, PublicationYear) VALUES (?, ?, ?, ?);\"\n",
        "    for book in books:\n",
        "        cursor.execute(insert_sql, book)\n",
        "    connection.commit()\n",
        "    print(\"Fetched books from Google API inserted into Books table.\")\n",
        "    cursor.close()"
      ],
      "metadata": {
        "id": "BDYXngQWnAVl"
      },
      "execution_count": 27,
      "outputs": []
    },
    {
      "cell_type": "markdown",
      "source": [
        "# Retrieve data from the database"
      ],
      "metadata": {
        "id": "xuHOSvR5yv2Z"
      }
    },
    {
      "cell_type": "code",
      "source": [
        "def retrieve_data(connection):\n",
        "    cursor = connection.cursor()\n",
        "    select_sql = \"SELECT * FROM dbo.Books\"\n",
        "    cursor.execute(select_sql)\n",
        "    rows = cursor.fetchall()\n",
        "    print(\"Retrieved data from the Books table:\")\n",
        "    for row in rows:\n",
        "        print(f\"ID: {row.BookID}, Title: {row.Title}, Author: {row.Author}, Genre: {row.Genre}, Year: {row.PublicationYear}\")\n",
        "    cursor.close()"
      ],
      "metadata": {
        "id": "NML2WTl6nC--"
      },
      "execution_count": 28,
      "outputs": []
    },
    {
      "cell_type": "markdown",
      "source": [
        "# Update data from the database"
      ],
      "metadata": {
        "id": "NZ8b4s963yP1"
      }
    },
    {
      "cell_type": "code",
      "source": [
        "def update_books(connection, book_id, title=None, author=None, genre=None, year=None):\n",
        "    \"\"\"\n",
        "    Updates book details in the Books table.\n",
        "    - book_id: The ID of the book to update.\n",
        "    - title, author, genre, year: Fields to update (optional).\n",
        "    \"\"\"\n",
        "    cursor = connection.cursor()\n",
        "    update_fields = []\n",
        "    values = []\n",
        "\n",
        "    if title:\n",
        "        update_fields.append(\"Title = ?\")\n",
        "        values.append(title)\n",
        "    if author:\n",
        "        update_fields.append(\"Author = ?\")\n",
        "        values.append(author)\n",
        "    if genre:\n",
        "        update_fields.append(\"Genre = ?\")\n",
        "        values.append(genre)\n",
        "    if year:\n",
        "        update_fields.append(\"PublicationYear = ?\")\n",
        "        values.append(year)\n",
        "\n",
        "    if not update_fields:\n",
        "        print(\"No fields to update.\")\n",
        "        return\n",
        "\n",
        "    update_sql = f\"UPDATE Books SET {', '.join(update_fields)} WHERE BookID = ?\"\n",
        "    values.append(book_id)\n",
        "\n",
        "    try:\n",
        "        cursor.execute(update_sql, values)\n",
        "        connection.commit()\n",
        "        print(f\"Book with ID {book_id} updated successfully.\")\n",
        "    except Exception as e:\n",
        "        print(f\"Error updating book: {e}\")\n",
        "    finally:\n",
        "        cursor.close()"
      ],
      "metadata": {
        "id": "R-RrxlA23x0Y"
      },
      "execution_count": null,
      "outputs": []
    },
    {
      "cell_type": "markdown",
      "source": [
        "# Delete sample data from the database"
      ],
      "metadata": {
        "id": "G2MKhKO-yzHb"
      }
    },
    {
      "cell_type": "code",
      "source": [
        "def delete_sample_data(connection):\n",
        "    cursor = connection.cursor()\n",
        "    delete_sql = \"DELETE FROM Books WHERE Author = 'Sample Author';\"\n",
        "    cursor.execute(delete_sql)\n",
        "    connection.commit()\n",
        "    print(\"Sample data deleted.\")\n",
        "    cursor.close()"
      ],
      "metadata": {
        "id": "FkBiLb2cnEp-"
      },
      "execution_count": 29,
      "outputs": []
    },
    {
      "cell_type": "markdown",
      "source": [
        "# Disconnect from the database"
      ],
      "metadata": {
        "id": "lUy2bPdHy5JK"
      }
    },
    {
      "cell_type": "code",
      "execution_count": 30,
      "metadata": {
        "colab": {
          "base_uri": "https://localhost:8080/",
          "height": 332
        },
        "id": "UvRjJqCiRsCP",
        "outputId": "11c668ef-1658-42af-e6dd-8c21384bcb8a"
      },
      "outputs": [
        {
          "output_type": "error",
          "ename": "Error",
          "evalue": "('01000', \"[01000] [unixODBC][Driver Manager]Can't open lib 'ODBC Driver 18 for SQL Server' : file not found (0) (SQLDriverConnect)\")",
          "traceback": [
            "\u001b[0;31m---------------------------------------------------------------------------\u001b[0m",
            "\u001b[0;31mError\u001b[0m                                     Traceback (most recent call last)",
            "\u001b[0;32m<ipython-input-30-9dc23b208513>\u001b[0m in \u001b[0;36m<cell line: 5>\u001b[0;34m()\u001b[0m\n\u001b[1;32m      4\u001b[0m \u001b[0;34m\u001b[0m\u001b[0m\n\u001b[1;32m      5\u001b[0m \u001b[0;32mif\u001b[0m \u001b[0m__name__\u001b[0m \u001b[0;34m==\u001b[0m \u001b[0;34m\"__main__\"\u001b[0m\u001b[0;34m:\u001b[0m\u001b[0;34m\u001b[0m\u001b[0;34m\u001b[0m\u001b[0m\n\u001b[0;32m----> 6\u001b[0;31m     \u001b[0mconn\u001b[0m \u001b[0;34m=\u001b[0m \u001b[0mconnect_db\u001b[0m\u001b[0;34m(\u001b[0m\u001b[0;34m)\u001b[0m\u001b[0;34m\u001b[0m\u001b[0;34m\u001b[0m\u001b[0m\n\u001b[0m\u001b[1;32m      7\u001b[0m     \u001b[0msetup_table\u001b[0m\u001b[0;34m(\u001b[0m\u001b[0mconn\u001b[0m\u001b[0;34m)\u001b[0m\u001b[0;34m\u001b[0m\u001b[0;34m\u001b[0m\u001b[0m\n\u001b[1;32m      8\u001b[0m     \u001b[0mbooks\u001b[0m \u001b[0;34m=\u001b[0m \u001b[0mfetch_books_from_google_api\u001b[0m\u001b[0;34m(\u001b[0m\u001b[0;34m\"Python programming\"\u001b[0m\u001b[0;34m)\u001b[0m\u001b[0;34m\u001b[0m\u001b[0;34m\u001b[0m\u001b[0m\n",
            "\u001b[0;32m<ipython-input-24-bc9b7d610e2c>\u001b[0m in \u001b[0;36mconnect_db\u001b[0;34m()\u001b[0m\n\u001b[1;32m     16\u001b[0m         \u001b[0;34mf'Connection Timeout=60;'\u001b[0m\u001b[0;34m\u001b[0m\u001b[0;34m\u001b[0m\u001b[0m\n\u001b[1;32m     17\u001b[0m     )\n\u001b[0;32m---> 18\u001b[0;31m     \u001b[0mconnection\u001b[0m \u001b[0;34m=\u001b[0m \u001b[0mpyodbc\u001b[0m\u001b[0;34m.\u001b[0m\u001b[0mconnect\u001b[0m\u001b[0;34m(\u001b[0m\u001b[0mconnection_string\u001b[0m\u001b[0;34m)\u001b[0m\u001b[0;34m\u001b[0m\u001b[0;34m\u001b[0m\u001b[0m\n\u001b[0m\u001b[1;32m     19\u001b[0m     \u001b[0;32mreturn\u001b[0m \u001b[0mconnection\u001b[0m\u001b[0;34m\u001b[0m\u001b[0;34m\u001b[0m\u001b[0m\n",
            "\u001b[0;31mError\u001b[0m: ('01000', \"[01000] [unixODBC][Driver Manager]Can't open lib 'ODBC Driver 18 for SQL Server' : file not found (0) (SQLDriverConnect)\")"
          ]
        }
      ],
      "source": [
        "def disconnect_db(connection):\n",
        "    connection.close()\n",
        "    print(\"Database connection closed.\")\n",
        "\n",
        "if __name__ == \"__main__\":\n",
        "    conn = connect_db()\n",
        "    setup_table(conn)\n",
        "    books = fetch_books_from_google_api(\"Python programming\")\n",
        "    insert_fetched_books(conn, books)\n",
        "    update_books(conn, 1, title=\"Updated Book Title\")\n",
        "    retrieve_data(conn)\n",
        "    delete_sample_data(conn)\n",
        "    disconnect_db(conn)\n"
      ]
    }
  ]
}