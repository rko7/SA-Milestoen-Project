{
  "nbformat": 4,
  "nbformat_minor": 0,
  "metadata": {
    "colab": {
      "provenance": [],
      "authorship_tag": "ABX9TyMGi8kLZaCI7mftvxj9BPst"
    },
    "kernelspec": {
      "name": "python3",
      "display_name": "Python 3"
    },
    "language_info": {
      "name": "python"
    }
  },
  "cells": [
    {
      "cell_type": "code",
      "execution_count": null,
      "metadata": {
        "colab": {
          "base_uri": "https://localhost:8080/"
        },
        "id": "oQdu9sagLuU3",
        "outputId": "076336fb-3d5f-4e13-b188-917f79607098"
      },
      "outputs": [
        {
          "output_type": "stream",
          "name": "stdout",
          "text": [
            "Requirement already satisfied: pyodbc in /usr/local/lib/python3.10/dist-packages (5.2.0)\n"
          ]
        }
      ],
      "source": [
        "pip install pyodbc"
      ]
    },
    {
      "cell_type": "code",
      "source": [
        "import pyodbc\n",
        "\n",
        "def connect_db():\n",
        "    server = 'your_server_name'\n",
        "    database = 'your_database_name'\n",
        "    username = 'your_username'\n",
        "    password = 'your_password'\n",
        "    driver= '{ODBC Driver 18 for SQL Server}'  # Update driver if necessary\n",
        "    connection_string = f'DRIVER={driver};SERVER={server};DATABASE={database};UID={username};PWD={password}'\n",
        "    connection = pyodbc.connect(connection_string)\n",
        "    return connection\n",
        "\n",
        "def disconnect_db(connection):\n",
        "    connection.close()\n"
      ],
      "metadata": {
        "id": "k0EvMwajLySo"
      },
      "execution_count": null,
      "outputs": []
    },
    {
      "cell_type": "code",
      "source": [
        "def create_book(connection, title, author, genre, publication_year):\n",
        "    cursor = connection.cursor()\n",
        "    sql = \"INSERT INTO Books (Title, Author, Genre, PublicationYear) VALUES (?, ?, ?, ?);\"\n",
        "    cursor.execute(sql, (title, author, genre, publication_year))\n",
        "    connection.commit()\n",
        "    cursor.close()\n"
      ],
      "metadata": {
        "id": "Qq_J_Vx5M3_a"
      },
      "execution_count": null,
      "outputs": []
    },
    {
      "cell_type": "code",
      "source": [
        "def read_books(connection, criteria=None):\n",
        "    cursor = connection.cursor()\n",
        "    # Basic query\n",
        "    sql = \"SELECT * FROM Books\"\n",
        "\n",
        "    # Apply criteria if searching or filtering\n",
        "    if criteria:\n",
        "        sql += f\" WHERE Title LIKE ? OR Author LIKE ?\"\n",
        "        cursor.execute(sql, (f\"%{criteria}%\", f\"%{criteria}%\"))\n",
        "    else:\n",
        "        cursor.execute(sql)\n",
        "\n",
        "    books = cursor.fetchall()\n",
        "    for book in books:\n",
        "        print(f\"Title: {book.Title}, Author: {book.Author}, Genre: {book.Genre}\")\n",
        "\n",
        "    cursor.close()\n",
        "\n"
      ],
      "metadata": {
        "id": "QDPYoMPdM6Qj"
      },
      "execution_count": null,
      "outputs": []
    },
    {
      "cell_type": "code",
      "source": [
        "def update_book(connection, book_id, new_title=None, new_author=None, new_genre=None, new_year=None):\n",
        "    cursor = connection.cursor()\n",
        "    update_sql = \"UPDATE Books SET \"\n",
        "    update_fields = []\n",
        "    values = []\n",
        "\n",
        "    if new_title:\n",
        "        update_fields.append(\"Title = ?\")\n",
        "        values.append(new_title)\n",
        "    if new_author:\n",
        "        update_fields.append(\"Author = ?\")\n",
        "        values.append(new_author)\n",
        "    if new_genre:\n",
        "        update_fields.append(\"Genre = ?\")\n",
        "        values.append(new_genre)\n",
        "    if new_year:\n",
        "        update_fields.append(\"PublicationYear = ?\")\n",
        "        values.append(new_year)\n",
        "\n",
        "    update_sql += \", \".join(update_fields)\n",
        "    update_sql += \" WHERE BookID = ?\"\n",
        "    values.append(book_id)\n",
        "\n",
        "    cursor.execute(update_sql, values)\n",
        "    connection.commit()\n",
        "    print(f\"Book with ID {book_id} updated successfully.\")\n",
        "    cursor.close()"
      ],
      "metadata": {
        "id": "rSVnSozOM-RX"
      },
      "execution_count": null,
      "outputs": []
    },
    {
      "cell_type": "code",
      "source": [
        "def delete_book(connection, book_id):\n",
        "    cursor = connection.cursor()\n",
        "    sql = \"DELETE FROM Books WHERE BookID = ?;\"\n",
        "    cursor.execute(sql, (book_id,))\n",
        "    connection.commit()\n",
        "    cursor.close()\n"
      ],
      "metadata": {
        "id": "4K37YKoIOFfp"
      },
      "execution_count": null,
      "outputs": []
    },
    {
      "cell_type": "code",
      "source": [
        "import pyodbc\n",
        "\n",
        "# Assuming CRUD functions are imported from the igottabook database module\n",
        "# from igottabook_database import connect_db, create_book, read_books, update_book, delete_book\n",
        "\n",
        "# Connect to the database\n",
        "conn = None\n",
        "try:\n",
        "    conn = connect_db()  # Establish connection\n",
        "\n",
        "    # 1. Test Create (Insert)\n",
        "    print(\"Testing create_book...\")\n",
        "    create_book(conn, \"Test Book\", \"Test Author\", \"Fiction\", 2023)\n",
        "    print(\"Book created.\")\n",
        "\n",
        "    # 2. Test Read (Query)\n",
        "    print(\"Testing read_books...\")\n",
        "    read_books(conn)  # Should list books including \"Test Book\" if it was created successfully\n",
        "\n",
        "    # 3. Test Update (Modify)\n",
        "    print(\"Testing update_book...\")\n",
        "    update_book(conn, book_id=1, new_title=\"Updated Test Book\")  # Assuming book_id 1 for testing purposes\n",
        "    print(\"Book updated.\")\n",
        "\n",
        "    # 4. Test Delete (Remove)\n",
        "    print(\"Testing delete_book...\")\n",
        "    delete_book(conn, 1)  # Again assuming book_id 1\n",
        "    print(\"Book deleted.\")\n",
        "\n",
        "except Exception as e:\n",
        "    print(\"Error:\", e)\n",
        "\n",
        "finally:\n",
        "    # Close the connection\n",
        "    if conn:\n",
        "        disconnect_db(conn)\n"
      ],
      "metadata": {
        "colab": {
          "base_uri": "https://localhost:8080/"
        },
        "id": "vR3OXm0vOkM_",
        "outputId": "f7851136-7255-4124-c81e-c81199401c03"
      },
      "execution_count": null,
      "outputs": [
        {
          "output_type": "stream",
          "name": "stdout",
          "text": [
            "Error: ('01000', \"[01000] [unixODBC][Driver Manager]Can't open lib 'ODBC Driver 18 for SQL Server' : file not found (0) (SQLDriverConnect)\")\n"
          ]
        }
      ]
    }
  ]
}