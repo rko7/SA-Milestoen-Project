{
  "nbformat": 4,
  "nbformat_minor": 0,
  "metadata": {
    "colab": {
      "provenance": [],
      "authorship_tag": "ABX9TyPZbOjAWdcBTX0pdQQ/2NZB"
    },
    "kernelspec": {
      "name": "python3",
      "display_name": "Python 3"
    },
    "language_info": {
      "name": "python"
    }
  },
  "cells": [
    {
      "cell_type": "code",
      "execution_count": null,
      "metadata": {
        "colab": {
          "base_uri": "https://localhost:8080/"
        },
        "id": "oQdu9sagLuU3",
        "outputId": "26068290-7765-43b3-8250-3dbe200ecde3"
      },
      "outputs": [
        {
          "output_type": "stream",
          "name": "stdout",
          "text": [
            "Collecting pyodbc\n",
            "  Downloading pyodbc-5.2.0-cp310-cp310-manylinux_2_17_x86_64.manylinux2014_x86_64.whl.metadata (2.7 kB)\n",
            "Downloading pyodbc-5.2.0-cp310-cp310-manylinux_2_17_x86_64.manylinux2014_x86_64.whl (336 kB)\n",
            "\u001b[?25l   \u001b[90m━━━━━━━━━━━━━━━━━━━━━━━━━━━━━━━━━━━━━━━━\u001b[0m \u001b[32m0.0/336.0 kB\u001b[0m \u001b[31m?\u001b[0m eta \u001b[36m-:--:--\u001b[0m\r\u001b[2K   \u001b[91m━━━━━━━━━━━━━━━━━━━━━━━━━━━━━━━━━━━━━━━\u001b[0m\u001b[90m╺\u001b[0m \u001b[32m327.7/336.0 kB\u001b[0m \u001b[31m26.0 MB/s\u001b[0m eta \u001b[36m0:00:01\u001b[0m\r\u001b[2K   \u001b[90m━━━━━━━━━━━━━━━━━━━━━━━━━━━━━━━━━━━━━━━━\u001b[0m \u001b[32m336.0/336.0 kB\u001b[0m \u001b[31m8.2 MB/s\u001b[0m eta \u001b[36m0:00:00\u001b[0m\n",
            "\u001b[?25hInstalling collected packages: pyodbc\n",
            "Successfully installed pyodbc-5.2.0\n"
          ]
        }
      ],
      "source": [
        "!pip install pyodbc"
      ]
    },
    {
      "cell_type": "code",
      "source": [
        "import pyodbc\n",
        "import requests  # Import requests library for making HTTP requests"
      ],
      "metadata": {
        "id": "WBQ2dHVauhUZ"
      },
      "execution_count": null,
      "outputs": []
    },
    {
      "cell_type": "markdown",
      "source": [
        "# Database connection function"
      ],
      "metadata": {
        "id": "_0Rj5p4juvu3"
      }
    },
    {
      "cell_type": "code",
      "source": [
        "def connect_db():\n",
        "    server = 'your_server_name'\n",
        "    database = 'your_database_name'\n",
        "    username = 'your_username'\n",
        "    password = 'your_password'\n",
        "    driver= '{ODBC Driver 18 for SQL Server}'  # Update driver if necessary\n",
        "    connection_string = f'DRIVER={driver};SERVER={server};DATABASE={database};UID={username};PWD={password}'\n",
        "    connection = pyodbc.connect(connection_string)\n",
        "    return connection"
      ],
      "metadata": {
        "id": "k0EvMwajLySo"
      },
      "execution_count": null,
      "outputs": []
    },
    {
      "cell_type": "markdown",
      "source": [
        "# Ensure the Books table exists"
      ],
      "metadata": {
        "id": "_oUFdYPzu1RN"
      }
    },
    {
      "cell_type": "code",
      "source": [
        "def setup_table(connection):\n",
        "    cursor = connection.cursor()\n",
        "    create_table_sql = \"\"\"\n",
        "    IF OBJECT_ID('dbo.Books', 'U') IS NULL\n",
        "    BEGIN\n",
        "        CREATE TABLE dbo.Books (\n",
        "            BookID INT IDENTITY(1,1) PRIMARY KEY,\n",
        "            Title NVARCHAR(255) NOT NULL,\n",
        "            Author NVARCHAR(255) NOT NULL,\n",
        "            Genre NVARCHAR(100),\n",
        "            PublicationYear INT\n",
        "        );\n",
        "    END;\n",
        "    \"\"\"\n",
        "    cursor.execute(create_table_sql)\n",
        "    connection.commit()\n",
        "    print(\"Books table created (or already exists).\")\n",
        "    cursor.close()"
      ],
      "metadata": {
        "id": "xXvua36Puy3P"
      },
      "execution_count": null,
      "outputs": []
    },
    {
      "cell_type": "markdown",
      "source": [
        "# Close the database connection"
      ],
      "metadata": {
        "id": "XggxtcM-u5PI"
      }
    },
    {
      "cell_type": "code",
      "source": [
        "def disconnect_db(connection):\n",
        "    connection.close()\n",
        "    print(\"Database connection closed.\")"
      ],
      "metadata": {
        "id": "Qq_J_Vx5M3_a"
      },
      "execution_count": null,
      "outputs": []
    },
    {
      "cell_type": "markdown",
      "source": [
        "# Fetch books from Google Books API"
      ],
      "metadata": {
        "id": "nlBcT4-JvEHX"
      }
    },
    {
      "cell_type": "code",
      "source": [
        "def fetch_books_from_google_api(query):\n",
        "    api_url = f\"https://www.googleapis.com/books/v1/volumes?q={query}\"\n",
        "    response = requests.get(api_url)\n",
        "    if response.status_code == 200:\n",
        "        data = response.json()\n",
        "        books = []\n",
        "        for item in data['items'][:5]:  # Limit to 5 results for demo purposes\n",
        "            title = item['volumeInfo'].get('title', 'N/A')\n",
        "            authors = ', '.join(item['volumeInfo'].get('authors', ['Unknown Author']))\n",
        "            genre = item['volumeInfo'].get('categories', ['N/A'])[0]\n",
        "            publication_year = item['volumeInfo'].get('publishedDate', 'N/A')[:4]\n",
        "            books.append((title, authors, genre, int(publication_year) if publication_year.isdigit() else None))\n",
        "        return books\n",
        "    else:\n",
        "        print(\"Error fetching data from Google Books API.\")\n",
        "        return []"
      ],
      "metadata": {
        "id": "QDPYoMPdM6Qj"
      },
      "execution_count": null,
      "outputs": []
    },
    {
      "cell_type": "markdown",
      "source": [
        "# Insert fetched books into the database"
      ],
      "metadata": {
        "id": "GwpI8UPcvJVY"
      }
    },
    {
      "cell_type": "code",
      "source": [
        "def insert_fetched_books(connection, books):\n",
        "    cursor = connection.cursor()\n",
        "    insert_sql = \"INSERT INTO dbo.Books (Title, Author, Genre, PublicationYear) VALUES (?, ?, ?, ?);\"\n",
        "    for book in books:\n",
        "        cursor.execute(insert_sql, book)\n",
        "    connection.commit()\n",
        "    print(\"Fetched books from Google API inserted into Books table.\")\n",
        "    cursor.close()"
      ],
      "metadata": {
        "id": "rSVnSozOM-RX"
      },
      "execution_count": null,
      "outputs": []
    },
    {
      "cell_type": "markdown",
      "source": [
        "# Retrieve data from the database"
      ],
      "metadata": {
        "id": "p70Uuq2WvOso"
      }
    },
    {
      "cell_type": "code",
      "source": [
        "def retrieve_data(connection):\n",
        "    cursor = connection.cursor()\n",
        "    select_sql = \"SELECT * FROM dbo.Books\"\n",
        "    cursor.execute(select_sql)\n",
        "    rows = cursor.fetchall()\n",
        "    print(\"Retrieved data from the Books table:\")\n",
        "    for row in rows:\n",
        "        print(f\"ID: {row.BookID}, Title: {row.Title}, Author: {row.Author}, Genre: {row.Genre}, Year: {row.PublicationYear}\")\n",
        "    cursor.close()"
      ],
      "metadata": {
        "id": "4K37YKoIOFfp"
      },
      "execution_count": null,
      "outputs": []
    },
    {
      "cell_type": "markdown",
      "source": [
        "# Update data from the database"
      ],
      "metadata": {
        "id": "PsOrQFM-4zGw"
      }
    },
    {
      "cell_type": "code",
      "source": [
        "def update_book(connection, book_id, new_title=None, new_author=None, new_genre=None, new_year=None):\n",
        "    cursor = connection.cursor()\n",
        "    update_sql = \"UPDATE dbo.Books SET \"\n",
        "    update_fields = []\n",
        "    values = []\n",
        "\n",
        "    if new_title:\n",
        "        update_fields.append(\"Title = ?\")\n",
        "        values.append(new_title)\n",
        "    if new_author:\n",
        "        update_fields.append(\"Author = ?\")\n",
        "        values.append(new_author)\n",
        "    if new_genre:\n",
        "        update_fields.append(\"Genre = ?\")\n",
        "        values.append(new_genre)\n",
        "    if new_year:\n",
        "        update_fields.append(\"PublicationYear = ?\")\n",
        "        values.append(new_year)\n",
        "\n",
        "    if update_fields:\n",
        "        update_sql += \", \".join(update_fields)\n",
        "        update_sql += \" WHERE BookID = ?\"\n",
        "        values.append(book_id)\n",
        "\n",
        "        cursor.execute(update_sql, values)\n",
        "        connection.commit()\n",
        "        print(f\"Book with ID {book_id} updated successfully.\")\n",
        "    else:\n",
        "        print(\"No fields provided for update.\")\n",
        "    cursor.close()"
      ],
      "metadata": {
        "id": "uOHPnDj04zYX"
      },
      "execution_count": null,
      "outputs": []
    },
    {
      "cell_type": "markdown",
      "source": [
        "# Delete sample data from the database"
      ],
      "metadata": {
        "id": "lWjevihovUWv"
      }
    },
    {
      "cell_type": "code",
      "source": [
        "def delete_sample_data(connection):\n",
        "    cursor = connection.cursor()\n",
        "    delete_sql = \"DELETE FROM Books WHERE Author = 'Sample Author';\"\n",
        "    cursor.execute(delete_sql)\n",
        "    connection.commit()\n",
        "    print(\"Sample data deleted.\")\n",
        "    cursor.close()"
      ],
      "metadata": {
        "id": "vR3OXm0vOkM_"
      },
      "execution_count": null,
      "outputs": []
    },
    {
      "cell_type": "markdown",
      "source": [
        "# Main test script"
      ],
      "metadata": {
        "id": "FpkN9GhgvfGX"
      }
    },
    {
      "cell_type": "code",
      "source": [
        "if __name__ == \"__main__\":\n",
        "    conn = connect_db()\n",
        "    setup_table(conn)\n",
        "    books = fetch_books_from_google_api(\"Python programming\")\n",
        "    insert_fetched_books(conn, books)\n",
        "    update_book(conn, 1, new_title=\"Updated Python Book\")\n",
        "    retrieve_data(conn)\n",
        "    delete_sample_data(conn)\n",
        "    disconnect_db(conn)"
      ],
      "metadata": {
        "colab": {
          "base_uri": "https://localhost:8080/",
          "height": 315
        },
        "id": "8VAcO8DCvhNv",
        "outputId": "6434af7f-b5e0-4988-c2fe-58de3ad41a9c"
      },
      "execution_count": null,
      "outputs": [
        {
          "output_type": "error",
          "ename": "Error",
          "evalue": "('01000', \"[01000] [unixODBC][Driver Manager]Can't open lib 'ODBC Driver 18 for SQL Server' : file not found (0) (SQLDriverConnect)\")",
          "traceback": [
            "\u001b[0;31m---------------------------------------------------------------------------\u001b[0m",
            "\u001b[0;31mError\u001b[0m                                     Traceback (most recent call last)",
            "\u001b[0;32m<ipython-input-10-e42143f10efb>\u001b[0m in \u001b[0;36m<cell line: 1>\u001b[0;34m()\u001b[0m\n\u001b[1;32m      1\u001b[0m \u001b[0;32mif\u001b[0m \u001b[0m__name__\u001b[0m \u001b[0;34m==\u001b[0m \u001b[0;34m\"__main__\"\u001b[0m\u001b[0;34m:\u001b[0m\u001b[0;34m\u001b[0m\u001b[0;34m\u001b[0m\u001b[0m\n\u001b[0;32m----> 2\u001b[0;31m     \u001b[0mconn\u001b[0m \u001b[0;34m=\u001b[0m \u001b[0mconnect_db\u001b[0m\u001b[0;34m(\u001b[0m\u001b[0;34m)\u001b[0m\u001b[0;34m\u001b[0m\u001b[0;34m\u001b[0m\u001b[0m\n\u001b[0m\u001b[1;32m      3\u001b[0m     \u001b[0msetup_table\u001b[0m\u001b[0;34m(\u001b[0m\u001b[0mconn\u001b[0m\u001b[0;34m)\u001b[0m\u001b[0;34m\u001b[0m\u001b[0;34m\u001b[0m\u001b[0m\n\u001b[1;32m      4\u001b[0m     \u001b[0mbooks\u001b[0m \u001b[0;34m=\u001b[0m \u001b[0mfetch_books_from_google_api\u001b[0m\u001b[0;34m(\u001b[0m\u001b[0;34m\"Python programming\"\u001b[0m\u001b[0;34m)\u001b[0m\u001b[0;34m\u001b[0m\u001b[0;34m\u001b[0m\u001b[0m\n\u001b[1;32m      5\u001b[0m     \u001b[0minsert_fetched_books\u001b[0m\u001b[0;34m(\u001b[0m\u001b[0mconn\u001b[0m\u001b[0;34m,\u001b[0m \u001b[0mbooks\u001b[0m\u001b[0;34m)\u001b[0m\u001b[0;34m\u001b[0m\u001b[0;34m\u001b[0m\u001b[0m\n",
            "\u001b[0;32m<ipython-input-3-13388fa95b29>\u001b[0m in \u001b[0;36mconnect_db\u001b[0;34m()\u001b[0m\n\u001b[1;32m      6\u001b[0m     \u001b[0mdriver\u001b[0m\u001b[0;34m=\u001b[0m \u001b[0;34m'{ODBC Driver 18 for SQL Server}'\u001b[0m  \u001b[0;31m# Update driver if necessary\u001b[0m\u001b[0;34m\u001b[0m\u001b[0;34m\u001b[0m\u001b[0m\n\u001b[1;32m      7\u001b[0m     \u001b[0mconnection_string\u001b[0m \u001b[0;34m=\u001b[0m \u001b[0;34mf'DRIVER={driver};SERVER={server};DATABASE={database};UID={username};PWD={password}'\u001b[0m\u001b[0;34m\u001b[0m\u001b[0;34m\u001b[0m\u001b[0m\n\u001b[0;32m----> 8\u001b[0;31m     \u001b[0mconnection\u001b[0m \u001b[0;34m=\u001b[0m \u001b[0mpyodbc\u001b[0m\u001b[0;34m.\u001b[0m\u001b[0mconnect\u001b[0m\u001b[0;34m(\u001b[0m\u001b[0mconnection_string\u001b[0m\u001b[0;34m)\u001b[0m\u001b[0;34m\u001b[0m\u001b[0;34m\u001b[0m\u001b[0m\n\u001b[0m\u001b[1;32m      9\u001b[0m     \u001b[0;32mreturn\u001b[0m \u001b[0mconnection\u001b[0m\u001b[0;34m\u001b[0m\u001b[0;34m\u001b[0m\u001b[0m\n",
            "\u001b[0;31mError\u001b[0m: ('01000', \"[01000] [unixODBC][Driver Manager]Can't open lib 'ODBC Driver 18 for SQL Server' : file not found (0) (SQLDriverConnect)\")"
          ]
        }
      ]
    }
  ]
}